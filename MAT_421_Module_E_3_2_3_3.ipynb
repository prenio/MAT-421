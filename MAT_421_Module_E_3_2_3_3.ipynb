{
  "nbformat": 4,
  "nbformat_minor": 0,
  "metadata": {
    "colab": {
      "provenance": [],
      "authorship_tag": "ABX9TyMqBsPZZCePJlTRgzRU3znX",
      "include_colab_link": true
    },
    "kernelspec": {
      "name": "python3",
      "display_name": "Python 3"
    },
    "language_info": {
      "name": "python"
    }
  },
  "cells": [
    {
      "cell_type": "markdown",
      "metadata": {
        "id": "view-in-github",
        "colab_type": "text"
      },
      "source": [
        "<a href=\"https://colab.research.google.com/github/prenio/MAT-421/blob/main/MAT_421_Module_E_3_2_3_3.ipynb\" target=\"_parent\"><img src=\"https://colab.research.google.com/assets/colab-badge.svg\" alt=\"Open In Colab\"/></a>"
      ]
    },
    {
      "cell_type": "markdown",
      "source": [
        "# MAT 421: Module E 3.2,3.3"
      ],
      "metadata": {
        "id": "_OalDs39G0OZ"
      }
    },
    {
      "cell_type": "markdown",
      "source": [
        "## Section 3.2/3.3\n"
      ],
      "metadata": {
        "id": "EE6BQrqAG7I6"
      }
    },
    {
      "cell_type": "markdown",
      "source": [
        "Question: Find the partial derivatives of the function: f(x,y) = x^2 sin(y)^3 + 2(y^3)/x^0.5"
      ],
      "metadata": {
        "id": "S9YREomcHZ6i"
      }
    },
    {
      "cell_type": "markdown",
      "source": [
        "Import the necessary libararies."
      ],
      "metadata": {
        "id": "P9Ha19umHVN5"
      }
    },
    {
      "cell_type": "code",
      "source": [
        "import numpy as np\n",
        "import matplotlib.pyplot as plt"
      ],
      "metadata": {
        "id": "lMuSdRJ0HX4M"
      },
      "execution_count": 2,
      "outputs": []
    },
    {
      "cell_type": "markdown",
      "source": [
        "For x:\n",
        "f'(x,y) with respect to x =<br>\n",
        "(2x)*(sin(y)^3)-(y^3)/(x^1.5)<br><br>\n",
        "f'(x,y) with respect to y =<br>\n",
        "3(x^2)*sin(y)^2 * cos(y) + 6(y^2)/(x^0.5)"
      ],
      "metadata": {
        "id": "lieLCEHIFnzX"
      }
    },
    {
      "cell_type": "markdown",
      "source": [
        "Question: In python, create a function that finds the gradient of the function above for any point (x,y)."
      ],
      "metadata": {
        "id": "fzn2uj0TGlnv"
      }
    },
    {
      "cell_type": "code",
      "source": [
        "def gradient(x,y):\n",
        "    return (((2*x)*(np.sin(y)**3)-((y**3)/(x**1.5))),((3*(x**2)*(np.sin(y)**2)*(np.cos(y)))+((6*(y**2))/(x**.5))))"
      ],
      "metadata": {
        "id": "q6CrbdnAGv7r"
      },
      "execution_count": 4,
      "outputs": []
    },
    {
      "cell_type": "code",
      "source": [
        "gradient(1,1)\n",
        "gradient(1,3)"
      ],
      "metadata": {
        "colab": {
          "base_uri": "https://localhost:8080/"
        },
        "id": "OSxL1-S_G3iM",
        "outputId": "0d41f26a-1d69-4486-d67e-29a0f4e358b1"
      },
      "execution_count": 6,
      "outputs": [
        {
          "output_type": "execute_result",
          "data": {
            "text/plain": [
              "(-26.994379230531077, 53.940853323963175)"
            ]
          },
          "metadata": {},
          "execution_count": 6
        }
      ]
    },
    {
      "cell_type": "markdown",
      "source": [
        "Question: Using the formula for derivatives (central distance formula), compute the gradient of any functino."
      ],
      "metadata": {
        "id": "0IJDKgyVG_KT"
      }
    },
    {
      "cell_type": "code",
      "source": [
        "def gradientF(f,x,y,h):\n",
        "    return(((f)(x+h,y)-(f)(x-h,y))/(2*h),((f)(x,y+h)-(f)(x,y-h))/(2*h))"
      ],
      "metadata": {
        "id": "NOok-l2VHvKr"
      },
      "execution_count": 8,
      "outputs": []
    },
    {
      "cell_type": "markdown",
      "source": [
        "We can use an anonymous function to test this new gradient function."
      ],
      "metadata": {
        "id": "Rmk36THnIttC"
      }
    },
    {
      "cell_type": "code",
      "source": [
        "gradientF(lambda x,y: x**3 *y, 3,-2, 1e-4)"
      ],
      "metadata": {
        "colab": {
          "base_uri": "https://localhost:8080/"
        },
        "id": "-Pz0TeeBJWao",
        "outputId": "1dfe436f-d49c-4478-e62f-d8fd638b0391"
      },
      "execution_count": 10,
      "outputs": [
        {
          "output_type": "execute_result",
          "data": {
            "text/plain": [
              "(-54.00000002012462, 27.00000000000813)"
            ]
          },
          "metadata": {},
          "execution_count": 10
        }
      ]
    },
    {
      "cell_type": "markdown",
      "source": [
        "We can see here that it is still only an approximation with how these figures are not exact."
      ],
      "metadata": {
        "id": "5np1utQyJeoT"
      }
    }
  ]
}