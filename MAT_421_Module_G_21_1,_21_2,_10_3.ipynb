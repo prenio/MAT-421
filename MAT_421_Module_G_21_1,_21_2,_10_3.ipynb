{
  "nbformat": 4,
  "nbformat_minor": 0,
  "metadata": {
    "colab": {
      "provenance": [],
      "authorship_tag": "ABX9TyO3M62KDPJhWCElfeE5R03a",
      "include_colab_link": true
    },
    "kernelspec": {
      "name": "python3",
      "display_name": "Python 3"
    },
    "language_info": {
      "name": "python"
    }
  },
  "cells": [
    {
      "cell_type": "markdown",
      "metadata": {
        "id": "view-in-github",
        "colab_type": "text"
      },
      "source": [
        "<a href=\"https://colab.research.google.com/github/prenio/MAT-421/blob/main/MAT_421_Module_G_21_1%2C_21_2%2C_10_3.ipynb\" target=\"_parent\"><img src=\"https://colab.research.google.com/assets/colab-badge.svg\" alt=\"Open In Colab\"/></a>"
      ]
    },
    {
      "cell_type": "markdown",
      "source": [
        "<h1>MAT 421: Module G</h1>\n",
        "<h2>Sections: 21.1, 21.2, 21.3</h2>\n",
        "\n"
      ],
      "metadata": {
        "id": "_OalDs39G0OZ"
      }
    },
    {
      "cell_type": "markdown",
      "source": [
        "<u>Question:</u> Use the left Riemann Integral, right Riemann Integral, and Midpoint Rule to approximate <sub>0</sub>∫<sup>π</sup>cos(x)\n",
        " wtih 1000 evenly spaced grid ponts over the whole interval. Compare this value to the exact value of 0."
      ],
      "metadata": {
        "id": "S9YREomcHZ6i"
      }
    },
    {
      "cell_type": "markdown",
      "source": [
        "<p>Import needed libraries</p>"
      ],
      "metadata": {
        "id": "3J6Z_O8lTOfw"
      }
    },
    {
      "cell_type": "code",
      "source": [
        "import numpy as np"
      ],
      "metadata": {
        "id": "6GWZIInfTLhm"
      },
      "execution_count": 5,
      "outputs": []
    },
    {
      "cell_type": "code",
      "source": [
        "b1 = 0\n",
        "pi = np.pi\n",
        "step = 1000\n",
        "h = (pi - b1) / (step - 1)\n",
        "x = np.linspace(b1, pi, step)\n",
        "function = np.cos(x)\n",
        "\n",
        "leftR = h * sum(function[:step-1])\n",
        "leftRError = 0 - leftR\n",
        "\n",
        "rightR = h * sum(function[1::])\n",
        "rightRError = 0 - rightR\n",
        "\n",
        "midR = h * sum(np.cos((x[:step-1] \\\n",
        "        + x[1:])/2))\n",
        "midRError = 0 - midR\n",
        "\n",
        "print(leftR)\n",
        "print(leftRError)\n",
        "\n",
        "print(rightR)\n",
        "print(rightRError)\n",
        "\n",
        "print(midR)\n",
        "print(midRError)"
      ],
      "metadata": {
        "colab": {
          "base_uri": "https://localhost:8080/"
        },
        "id": "4BkjfSM2Rd4s",
        "outputId": "99c8529e-2c79-4fd7-ca9d-ba032560fd51"
      },
      "execution_count": 27,
      "outputs": [
        {
          "output_type": "stream",
          "name": "stdout",
          "text": [
            "0.0003141906844274034\n",
            "-0.0003141906844274034\n",
            "-0.00031419068442713926\n",
            "0.00031419068442713926\n",
            "5.0858208521818037e-17\n",
            "-5.0858208521818037e-17\n"
          ]
        }
      ]
    },
    {
      "cell_type": "markdown",
      "source": [
        "<u>Question:</u> Use the Trapezoid rule to approximate <sub>0</sub>∫<sup>π</sup>cos(x)\n",
        " wtih 10 evenly spaced grid ponts over the whole interval. Compare this value to the exact value of 0."
      ],
      "metadata": {
        "id": "qTyD7bHQWjez"
      }
    },
    {
      "cell_type": "code",
      "source": [
        "step = 10\n",
        "\n",
        "trap = (h/2)*(f[0] + \\\n",
        "          2 * sum(f[1:step-1]) + f[step-1])\n",
        "trapError = 0 - trap\n",
        "\n",
        "print(trap)\n",
        "print(trapError)"
      ],
      "metadata": {
        "colab": {
          "base_uri": "https://localhost:8080/"
        },
        "id": "r-IxC4joWqzs",
        "outputId": "9f9fbc17-fa87-4e7c-b20e-17a84727b927"
      },
      "execution_count": 37,
      "outputs": [
        {
          "output_type": "stream",
          "name": "stdout",
          "text": [
            "4.001320722819478e-05\n",
            "-4.001320722819478e-05\n"
          ]
        }
      ]
    }
  ]
}