{
  "nbformat": 4,
  "nbformat_minor": 0,
  "metadata": {
    "colab": {
      "provenance": [],
      "authorship_tag": "ABX9TyPBp5HW5vsA453GyW2FP8c7",
      "include_colab_link": true
    },
    "kernelspec": {
      "name": "python3",
      "display_name": "Python 3"
    },
    "language_info": {
      "name": "python"
    }
  },
  "cells": [
    {
      "cell_type": "markdown",
      "metadata": {
        "id": "view-in-github",
        "colab_type": "text"
      },
      "source": [
        "<a href=\"https://colab.research.google.com/github/prenio/MAT-421/blob/main/MAT_421_Module_D.ipynb\" target=\"_parent\"><img src=\"https://colab.research.google.com/assets/colab-badge.svg\" alt=\"Open In Colab\"/></a>"
      ]
    },
    {
      "cell_type": "markdown",
      "source": [
        "# MAT 421: Module D 1.1, 1.2, 1.3"
      ],
      "metadata": {
        "id": "_OalDs39G0OZ"
      }
    },
    {
      "cell_type": "markdown",
      "source": [
        "## Section 1.1/1.2\n"
      ],
      "metadata": {
        "id": "EE6BQrqAG7I6"
      }
    },
    {
      "cell_type": "markdown",
      "source": [
        "Question: Let matrix A = [[1,2],[3,4],[5,6]] and B = [[6,5,4],[3,2,1]]. Compute the matrix product of A and B. Does this produce an error and why is this the case?"
      ],
      "metadata": {
        "id": "S9YREomcHZ6i"
      }
    },
    {
      "cell_type": "markdown",
      "source": [
        "Import the necessary libararies."
      ],
      "metadata": {
        "id": "P9Ha19umHVN5"
      }
    },
    {
      "cell_type": "code",
      "source": [
        "import numpy as np\n",
        "from numpy.linalg import eig\n",
        "from numpy.linalg import qr"
      ],
      "metadata": {
        "id": "lMuSdRJ0HX4M"
      },
      "execution_count": 21,
      "outputs": []
    },
    {
      "cell_type": "markdown",
      "source": [
        "Use numpy to compute the product of the 2 matrices."
      ],
      "metadata": {
        "id": "n7qEgrnnHBsv"
      }
    },
    {
      "cell_type": "code",
      "source": [
        "A,B = np.array([[1,2],[3,4],[5,6]]),np.array([[6,5,4],[3,2,1]])\n",
        "print(A)\n",
        "print(B, \"\\n\")\n",
        "\n",
        "product = np.dot(A,B)\n",
        "print(product)"
      ],
      "metadata": {
        "colab": {
          "base_uri": "https://localhost:8080/"
        },
        "id": "XgoL0-utHFnR",
        "outputId": "03c95c1e-b92b-4364-e061-b2d41465d4ee"
      },
      "execution_count": 20,
      "outputs": [
        {
          "output_type": "stream",
          "name": "stdout",
          "text": [
            "[[1 2]\n",
            " [3 4]\n",
            " [5 6]]\n",
            "[[6 5 4]\n",
            " [3 2 1]] \n",
            "\n",
            "[[12  9  6]\n",
            " [30 23 16]\n",
            " [48 37 26]]\n"
          ]
        }
      ]
    },
    {
      "cell_type": "markdown",
      "source": [
        "This does not produce an error because matrix A has the dimension (3,2) and the dimensions of matrix B is (2,3). These matrices are able to be multiplied together because the dimensions align."
      ],
      "metadata": {
        "id": "Uk_vXkvHIlAQ"
      }
    },
    {
      "cell_type": "markdown",
      "source": [
        "The theory is that if matrix A has dimension (x,y) and matrix B has dimension (z,w), if y=z, then the matrix A can be multiplied to B (AB) without errors. If they were switched (BA), then the matrices can be multiplied if x=z. \n",
        " "
      ],
      "metadata": {
        "id": "xLFlN1ksI3kz"
      }
    },
    {
      "cell_type": "markdown",
      "source": [
        "<br>Question: Let matrix A = [[1,2],[3,4],[5,6]] and B = [[6,5,4],[3,2,1]]. Calculate the eigenvalues and eigenvectors for these matrices using python."
      ],
      "metadata": {
        "id": "NH9O5g5bIF1Y"
      }
    },
    {
      "cell_type": "code",
      "source": [
        "A,B = np.array([[1,2],[3,4]]),np.array([[9,8,7],[6,5,4],[3,2,1]])\n",
        "\n",
        "print(\"A: \",A)\n",
        "evalue_a, evector_a = eig(A)\n",
        "print(\"The eigenvalues of matrix A is: \", evalue_a)\n",
        "print(\"The eigenvectors of matrix A is: \", evector_a, \"\\n\")\n",
        "\n",
        "print(\"B: \",B)\n",
        "evalue_b, evector_b = eig(B)\n",
        "print(\"The eigenvalues of matrix B is: \", evalue_b)\n",
        "print(\"The eigenvectors of matrix B is: \", evector_b)"
      ],
      "metadata": {
        "colab": {
          "base_uri": "https://localhost:8080/"
        },
        "id": "qAa7Gdl8JcCq",
        "outputId": "25cd4113-f52c-4583-87cc-6e720a504e35"
      },
      "execution_count": 19,
      "outputs": [
        {
          "output_type": "stream",
          "name": "stdout",
          "text": [
            "A:  [[1 2]\n",
            " [3 4]]\n",
            "The eigenvalues of matrix A is:  [-0.37228132  5.37228132]\n",
            "The eigenvectors of matrix A is:  [[-0.82456484 -0.41597356]\n",
            " [ 0.56576746 -0.90937671]] \n",
            "\n",
            "B:  [[9 8 7]\n",
            " [6 5 4]\n",
            " [3 2 1]]\n",
            "The eigenvalues of matrix B is:  [ 1.61168440e+01 -1.11684397e+00 -5.03850873e-16]\n",
            "The eigenvectors of matrix B is:  [[-0.8186735  -0.61232756  0.40824829]\n",
            " [-0.52532209  0.08675134 -0.81649658]\n",
            " [-0.23197069  0.78583024  0.40824829]]\n"
          ]
        }
      ]
    },
    {
      "cell_type": "markdown",
      "source": [
        "## Section 1.3"
      ],
      "metadata": {
        "id": "e4fqbvdXMoqb"
      }
    },
    {
      "cell_type": "markdown",
      "source": [
        "Question: Let matrix A = [[4,3],[2,1]]. Use the qr function in python to find the eigenalues. Find the 1st, 5th, and 10th iterations. Compare this to the eigenvalue/eigenvector function."
      ],
      "metadata": {
        "id": "-nFcnePiKwFW"
      }
    },
    {
      "cell_type": "code",
      "source": [
        "A = np.array([[4, 3], \n",
        "              [2, 1]])\n",
        "\n",
        "iter = [1,5,10]\n",
        "\n",
        "for i in range(11):\n",
        "  q,r = qr(A)\n",
        "  A = np.dot(r,q)\n",
        "  if i in iter:\n",
        "    print(\"Iteration \",i,\":\")\n",
        "    print(A,\"\\n\")\n",
        "\n",
        "evalue_a = eig(A)\n",
        "print(\"The eigenvalues of matrix A is: \", evalue_a)\n",
        "\n",
        "  "
      ],
      "metadata": {
        "colab": {
          "base_uri": "https://localhost:8080/"
        },
        "id": "vYJ61mZlLE31",
        "outputId": "0941caef-445d-4d53-b18a-577da96ba76d"
      },
      "execution_count": 31,
      "outputs": [
        {
          "output_type": "stream",
          "name": "stdout",
          "text": [
            "Iteration  1 :\n",
            "[[ 5.36986301  1.01369863]\n",
            " [ 0.01369863 -0.36986301]] \n",
            "\n",
            "Iteration  5 :\n",
            "[[ 5.37228127e+00  1.00000032e+00]\n",
            " [ 3.16147971e-07 -3.72281268e-01]] \n",
            "\n",
            "Iteration  10 :\n",
            "[[ 5.37228132e+00 -1.00000000e+00]\n",
            " [ 5.05187875e-13 -3.72281323e-01]] \n",
            "\n",
            "The eigenvalues of matrix A is:  (array([ 5.37228132, -0.37228132]), array([[1.00000000e+00, 1.71498585e-01],\n",
            "       [8.79419210e-14, 9.85184366e-01]]))\n"
          ]
        }
      ]
    },
    {
      "cell_type": "markdown",
      "source": [
        "We can see that with more iterations, the eigenvalues get closer to the value found in the eigenvalue function."
      ],
      "metadata": {
        "id": "auebIa7lMuUs"
      }
    }
  ]
}