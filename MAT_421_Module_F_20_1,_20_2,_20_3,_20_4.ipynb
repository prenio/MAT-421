{
  "nbformat": 4,
  "nbformat_minor": 0,
  "metadata": {
    "colab": {
      "provenance": [],
      "authorship_tag": "ABX9TyOXKJwurY7alSaiaCJs+mD6",
      "include_colab_link": true
    },
    "kernelspec": {
      "name": "python3",
      "display_name": "Python 3"
    },
    "language_info": {
      "name": "python"
    }
  },
  "cells": [
    {
      "cell_type": "markdown",
      "metadata": {
        "id": "view-in-github",
        "colab_type": "text"
      },
      "source": [
        "<a href=\"https://colab.research.google.com/github/prenio/MAT-421/blob/main/MAT_421_Module_F_20_1%2C_20_2%2C_20_3%2C_20_4.ipynb\" target=\"_parent\"><img src=\"https://colab.research.google.com/assets/colab-badge.svg\" alt=\"Open In Colab\"/></a>"
      ]
    },
    {
      "cell_type": "markdown",
      "source": [
        "<h1>MAT 421: Module F</h1>\n",
        "<h2>Sections: 20.1, 20.2, 20.3, 20.4</h2>\n",
        "\n"
      ],
      "metadata": {
        "id": "_OalDs39G0OZ"
      }
    },
    {
      "cell_type": "markdown",
      "source": [
        "<u>Question:</u> Find the derivative for the function: f(x) = x<sup>2</sup>+1 using the central difference formula. "
      ],
      "metadata": {
        "id": "S9YREomcHZ6i"
      }
    },
    {
      "cell_type": "markdown",
      "source": [
        "f'(x) = (x<sub>j+1</sub>)<sup>2</sup>+1 - ((x<sub>j-1</sub>)<sup>2</sup>+1) / (x<sub>j+1</sub> - x<sub>j-1</sub>)"
      ],
      "metadata": {
        "id": "L_XuFPJQr6dI"
      }
    },
    {
      "cell_type": "markdown",
      "source": [
        "f'(x) = x<sup>2</sup><sub>j+1</sub>+1 - x<sup>2</sup><sub>j-1</sub>-1 / (x<sub>j+1</sub> - x<sub>j-1</sub>)"
      ],
      "metadata": {
        "id": "24r3roPotMM_"
      }
    },
    {
      "cell_type": "markdown",
      "source": [
        "Cancel out the 1's.\n",
        "<br>\n",
        "f'(x) = x<sup>2</sup><sub>j+1</sub> - x<sup>2</sup><sub>j-1</sub> / (x<sub>j+1</sub> - x<sub>j-1</sub>)"
      ],
      "metadata": {
        "id": "bsm1Ub5-uMdx"
      }
    },
    {
      "cell_type": "markdown",
      "source": [
        "Rewrite the numerator.<br>\n"
      ],
      "metadata": {
        "id": "fc_roBtSutGo"
      }
    },
    {
      "cell_type": "markdown",
      "source": [
        "f'(x) = (x<sub>j+1</sub> + x<sub>j-1</sub>)(x<sub>j+1</sub> - x<sub>j-1</sub>) / (x<sub>j+1</sub> - x<sub>j-1</sub>)"
      ],
      "metadata": {
        "id": "C3-2G0XUuyAu"
      }
    },
    {
      "cell_type": "markdown",
      "source": [
        "Cancel out terms.<br>\n",
        "f'(x) = (x<sub>j+1</sub> + x<sub>j-1</sub>)<br><hr>"
      ],
      "metadata": {
        "id": "5kmHi6MEvFJx"
      }
    },
    {
      "cell_type": "markdown",
      "source": [
        "<u>Question:</u> Find the derivative for the function f(x) = x<sup>2</sup>+1 using the forward difference formula."
      ],
      "metadata": {
        "id": "BhmRzJkHw_R8"
      }
    },
    {
      "cell_type": "markdown",
      "source": [
        "f'(x) = x<sup>2</sup><sub>j+1</sub>+1 - x<sup>2</sup><sub>j</sub>-1 / (x<sub>j+1</sub> - x<sub>j</sub>)"
      ],
      "metadata": {
        "id": "5w6NkUnYxkDe"
      }
    },
    {
      "cell_type": "markdown",
      "source": [
        "Cancel out the 1's."
      ],
      "metadata": {
        "id": "bMwLpkILyTc-"
      }
    },
    {
      "cell_type": "markdown",
      "source": [
        "f'(x) = x<sup>2</sup><sub>j+1</sub> - x<sup>2</sup><sub>j</sub> / (x<sub>j+1</sub> - x<sub>j</sub>)"
      ],
      "metadata": {
        "id": "ESXNvcZiyW_P"
      }
    },
    {
      "cell_type": "markdown",
      "source": [
        "Rewrite the terms."
      ],
      "metadata": {
        "id": "ggUPMfvpyQcv"
      }
    },
    {
      "cell_type": "markdown",
      "source": [
        "f'(x) = (x<sub>j+1</sub> + x<sub>j</sub>)(x<sub>j+1</sub> - x<sub>j</sub>) / (x<sub>j+1</sub> - x<sub>j</sub>)"
      ],
      "metadata": {
        "id": "XM8R3ZzSyd5v"
      }
    },
    {
      "cell_type": "markdown",
      "source": [
        "Cancel the terms."
      ],
      "metadata": {
        "id": "pNoHQ_lqyr-V"
      }
    },
    {
      "cell_type": "markdown",
      "source": [
        "f'(x) = x<sub>j+1</sub> + x<sub>j</sub>"
      ],
      "metadata": {
        "id": "SHaEKrLeytRt"
      }
    }
  ]
}