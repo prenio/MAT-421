{
  "nbformat": 4,
  "nbformat_minor": 0,
  "metadata": {
    "colab": {
      "provenance": [],
      "authorship_tag": "ABX9TyPWwzvQc6cjvbsiI0Zl5czL",
      "include_colab_link": true
    },
    "kernelspec": {
      "name": "python3",
      "display_name": "Python 3"
    },
    "language_info": {
      "name": "python"
    }
  },
  "cells": [
    {
      "cell_type": "markdown",
      "metadata": {
        "id": "view-in-github",
        "colab_type": "text"
      },
      "source": [
        "<a href=\"https://colab.research.google.com/github/prenio/MAT-421/blob/main/MAT_421_Module_A.ipynb\" target=\"_parent\"><img src=\"https://colab.research.google.com/assets/colab-badge.svg\" alt=\"Open In Colab\"/></a>"
      ]
    },
    {
      "cell_type": "markdown",
      "source": [
        "# MAT 421: Module A 9.1, 9.2, 9.3"
      ],
      "metadata": {
        "id": "RV2BTse7j4P6"
      }
    },
    {
      "cell_type": "markdown",
      "source": [
        "## Section 9.1"
      ],
      "metadata": {
        "id": "AsIADOt9j8kn"
      }
    },
    {
      "cell_type": "markdown",
      "source": [
        "Convert the number 74 (base10) into binary."
      ],
      "metadata": {
        "id": "dycr5HxWkXFM"
      }
    },
    {
      "cell_type": "markdown",
      "source": [
        "75 = 64 + 8 + 2 + 1 \n",
        "\n",
        "With this, we can find the bits in each position:\n",
        "\n",
        "75 = 1 * 2^6 + 0 * 2^5 + 0 * 2^4 + 1 * 2^3 + 0 * 2^2 + 1 * 2^1 + 1 * 2^0\n",
        "\n",
        "75 (base10) = 0100 1011 (base2)\n",
        "\n",
        "We can verify this in python:\n"
      ],
      "metadata": {
        "id": "yPLASCdxkqQ1"
      }
    },
    {
      "cell_type": "code",
      "source": [
        "bin(75)"
      ],
      "metadata": {
        "colab": {
          "base_uri": "https://localhost:8080/",
          "height": 35
        },
        "id": "cYlRq-UCljM5",
        "outputId": "72d0b757-13cc-4eaa-c656-be210813d4c8"
      },
      "execution_count": null,
      "outputs": [
        {
          "output_type": "execute_result",
          "data": {
            "text/plain": [
              "'0b1001011'"
            ],
            "application/vnd.google.colaboratory.intrinsic+json": {
              "type": "string"
            }
          },
          "metadata": {},
          "execution_count": 2
        }
      ]
    },
    {
      "cell_type": "markdown",
      "source": [
        "0b1001011 is the same as the result that was found."
      ],
      "metadata": {
        "id": "SQLpXUkOlrb8"
      }
    },
    {
      "cell_type": "markdown",
      "source": [
        "## Section 9.2"
      ],
      "metadata": {
        "id": "aMyEJaBLj_kb"
      }
    },
    {
      "cell_type": "markdown",
      "source": [
        "What is the number 0 11100000100 111000000000000000000000000000000000000000000000000 (IEEE754) in base10?"
      ],
      "metadata": {
        "id": "udKG0Xdalw3F"
      }
    },
    {
      "cell_type": "markdown",
      "source": [
        "The exponent can be simplified to:<br>\n",
        "1 * 2^10 + 1 * 2^9 + 1 * 2^8 + 1 * 2^2 - 1023 = 1796 - 1023 = 773<br>\n",
        "The fraction can be simplified to:<br>\n",
        "1 * 2^-1 + 1 * 2^-2 + 1 * 2^-3 = 0.875\n",
        "<br><br>\n",
        "With these two numbers, we can find the base10 value of the IEEE754 number:<br>\n",
        "n = (-1)^0 * 2^773 *  (1+.875) = 9.31510855*10^232\n",
        "<br>(I have accidentally picked a too large of a number whoops)\n"
      ],
      "metadata": {
        "id": "Ni_t2oNtmzsu"
      }
    },
    {
      "cell_type": "markdown",
      "source": [
        "## Section 9.3\n"
      ],
      "metadata": {
        "id": "dSb_w-kRj_nl"
      }
    },
    {
      "cell_type": "markdown",
      "source": [
        "Round the number 65.3564 to 2 decimal places. Subtract this from its ceiling. Compare this value to the expected value of the difference.<br> What is the difference between the expected and actual results?"
      ],
      "metadata": {
        "id": "oa0CAqJ7pv_Z"
      }
    },
    {
      "cell_type": "markdown",
      "source": [
        "65.3564 rounds to 65.35. <br>\n",
        "66 - 65.35 = .64"
      ],
      "metadata": {
        "id": "IPImvtanreCU"
      }
    },
    {
      "cell_type": "code",
      "source": [
        "num = 65.3564\n",
        "r_num = round(num, 2)\n",
        "print(num, r_num)\n",
        "actual_difference = 66-r_num\n",
        "print(actual_difference)"
      ],
      "metadata": {
        "colab": {
          "base_uri": "https://localhost:8080/"
        },
        "id": "hmFqdMg_qX6m",
        "outputId": "1d57a254-cf39-4e8c-8a23-a2de0905b0f1"
      },
      "execution_count": null,
      "outputs": [
        {
          "output_type": "stream",
          "name": "stdout",
          "text": [
            "65.3564 65.36\n",
            "0.6400000000000006\n"
          ]
        }
      ]
    },
    {
      "cell_type": "markdown",
      "source": [
        "There is a tiny difference between the expected and actual results.\n",
        "<br>\n",
        "The difference is .0000000000000006"
      ],
      "metadata": {
        "id": "XBt_gK4qrpve"
      }
    }
  ]
}